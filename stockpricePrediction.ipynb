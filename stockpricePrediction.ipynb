{
 "cells": [
  {
   "cell_type": "code",
   "execution_count": 1,
   "id": "51b24cc8-4e14-4443-8ada-eda6e084e11b",
   "metadata": {},
   "outputs": [],
   "source": [
    "import numpy as np\n",
    "import pandas as pd\n",
    "from sklearn import preprocessing\n",
    "from sklearn.model_selection import train_test_split\n",
    "from sklearn.linear_model import LinearRegression"
   ]
  },
  {
   "cell_type": "code",
   "execution_count": 2,
   "id": "2c9156db-bc34-42bc-ae1a-58fe45392c13",
   "metadata": {},
   "outputs": [],
   "source": [
    "def prepare_data(df, forecast_col, forecast_out, test_size):\n",
    "    # creating new column called label with the last 5 rows are nan\n",
    "    label = df[forecast_col].shift(-forecast_out)\n",
    "    X = np.array(df[[forecast_col]])  # creating the feature array\n",
    "    X = preprocessing.scale(X)  # processing the feature array\n",
    "    # creating the column i want to use later in the predicting method\n",
    "    X_lately = X[-forecast_out:]\n",
    "    X = X[:-forecast_out]  # X that will contain the training and testing\n",
    "    label.dropna(inplace=True)  # dropping na values\n",
    "    y = np.array(label)  # assigning Y\n",
    "    X_train, X_test, Y_train, Y_test = train_test_split(\n",
    "        X, y, test_size=test_size, random_state=0)  # cross validation\n",
    "\n",
    "    response = [X_train, X_test, Y_train, Y_test, X_lately]\n",
    "    return response"
   ]
  },
  {
   "cell_type": "code",
   "execution_count": 3,
   "id": "2a9e3118-c751-4c78-b6cc-4153771f1e15",
   "metadata": {},
   "outputs": [
    {
     "name": "stdout",
     "output_type": "stream",
     "text": [
      "{'test_score': 0.9643198777897881, 'forecast_set': array([2946.15816697, 2946.00643161, 2953.6994307 , 2920.84244287,\n",
      "       2932.09848851])}\n"
     ]
    }
   ],
   "source": [
    "df = pd.read_csv(\"GOOG.csv\")\n",
    "#df = df[df.symbol == \"GOOG\"]\n",
    "\n",
    "forecast_col = 'Close'\n",
    "forecast_out = 5\n",
    "test_size = 0.2\n",
    "\n",
    "# calling the method were the cross validation and data preperation is in\n",
    "X_train, X_test, Y_train, Y_test, X_lately = prepare_data(\n",
    "    df, forecast_col, forecast_out, test_size)\n",
    "learner = LinearRegression()  # initializing linear regression model\n",
    "\n",
    "learner.fit(X_train, Y_train)  # training the linear regression model\n",
    "\n",
    "score = learner.score(X_test, Y_test)  # testing the linear regression model\n",
    "# set that will contain the forecasted data\n",
    "forecast = learner.predict(X_lately)\n",
    "response = {}  # creting json object\n",
    "response['test_score'] = score\n",
    "response['forecast_set'] = forecast\n",
    "\n",
    "print(response)"
   ]
  },
  {
   "cell_type": "code",
   "execution_count": null,
   "id": "25979c9b-e63d-4bbb-ad9b-36ffa0790fab",
   "metadata": {},
   "outputs": [],
   "source": []
  }
 ],
 "metadata": {
  "kernelspec": {
   "display_name": "Python 3 (ipykernel)",
   "language": "python",
   "name": "python3"
  },
  "language_info": {
   "codemirror_mode": {
    "name": "ipython",
    "version": 3
   },
   "file_extension": ".py",
   "mimetype": "text/x-python",
   "name": "python",
   "nbconvert_exporter": "python",
   "pygments_lexer": "ipython3",
   "version": "3.9.1"
  }
 },
 "nbformat": 4,
 "nbformat_minor": 5
}
